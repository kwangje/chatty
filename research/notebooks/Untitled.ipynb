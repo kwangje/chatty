{
 "cells": [
  {
   "cell_type": "code",
   "execution_count": 1,
   "metadata": {},
   "outputs": [],
   "source": [
    "import pandas as pd\n",
    "\n",
    "\n",
    "from chatty import tokens\n",
    "from research.data import daily_dialogue\n",
    "from research.utils import cv_stratified_shuffle\n",
    "\n",
    "from sklearn.model_selection import train_test_split\n",
    "\n",
    "data = daily_dialogue.data()\n",
    "\n",
    "one = tokens.nlp(data[1000]['utterance'])"
   ]
  },
  {
   "cell_type": "code",
   "execution_count": 2,
   "metadata": {},
   "outputs": [
    {
     "data": {
      "text/plain": [
       "['<POS>_SPACE',\n",
       " '<POS>_NOUN',\n",
       " '<POS>_VERB',\n",
       " '<POS>_DET',\n",
       " '<POS>_NOUN',\n",
       " '<POS>_ADP',\n",
       " '<POS>_ADP',\n",
       " '<POS>_PUNCT',\n",
       " '<POS>_NOUN',\n",
       " '<POS>_NOUN',\n",
       " '<POS>_PUNCT']"
      ]
     },
     "execution_count": 2,
     "metadata": {},
     "output_type": "execute_result"
    }
   ],
   "source": [
    "tokens.pos(one)"
   ]
  },
  {
   "cell_type": "code",
   "execution_count": 3,
   "metadata": {},
   "outputs": [
    {
     "data": {
      "text/plain": [
       "['<POS>_SPACE_<POS>_NOUN',\n",
       " '<POS>_NOUN_<POS>_VERB',\n",
       " '<POS>_VERB_<POS>_DET',\n",
       " '<POS>_DET_<POS>_NOUN',\n",
       " '<POS>_NOUN_<POS>_ADP',\n",
       " '<POS>_ADP_<POS>_ADP',\n",
       " '<POS>_ADP_<POS>_PUNCT',\n",
       " '<POS>_PUNCT_<POS>_NOUN',\n",
       " '<POS>_NOUN_<POS>_NOUN',\n",
       " '<POS>_NOUN_<POS>_PUNCT']"
      ]
     },
     "execution_count": 3,
     "metadata": {},
     "output_type": "execute_result"
    }
   ],
   "source": [
    "tokens.ngramize(tokens.pos(one), [2])"
   ]
  },
  {
   "cell_type": "code",
   "execution_count": 4,
   "metadata": {},
   "outputs": [
    {
     "data": {
      "text/plain": [
       "['<POS>_SPACE_<LEMMA>_ ',\n",
       " '<POS>_NOUN_<LEMMA>_what',\n",
       " '<POS>_VERB_<LEMMA>_be',\n",
       " '<POS>_DET_<LEMMA>_the',\n",
       " '<POS>_NOUN_<LEMMA>_disadvantage',\n",
       " '<POS>_ADP_<LEMMA>_of',\n",
       " '<POS>_ADP_<LEMMA>_on',\n",
       " '<POS>_PUNCT_<LEMMA>_-',\n",
       " '<POS>_NOUN_<LEMMA>_line',\n",
       " '<POS>_NOUN_<LEMMA>_shopping',\n",
       " '<POS>_PUNCT_<LEMMA>_?']"
      ]
     },
     "execution_count": 4,
     "metadata": {},
     "output_type": "execute_result"
    }
   ],
   "source": [
    "tokens.chain(one, tokenizers=[tokens.pos, tokens.lemma])"
   ]
  },
  {
   "cell_type": "code",
   "execution_count": null,
   "metadata": {},
   "outputs": [],
   "source": []
  },
  {
   "cell_type": "code",
   "execution_count": null,
   "metadata": {},
   "outputs": [],
   "source": []
  },
  {
   "cell_type": "code",
   "execution_count": null,
   "metadata": {},
   "outputs": [],
   "source": []
  },
  {
   "cell_type": "code",
   "execution_count": null,
   "metadata": {},
   "outputs": [],
   "source": []
  },
  {
   "cell_type": "code",
   "execution_count": null,
   "metadata": {},
   "outputs": [],
   "source": []
  },
  {
   "cell_type": "code",
   "execution_count": null,
   "metadata": {},
   "outputs": [],
   "source": []
  },
  {
   "cell_type": "code",
   "execution_count": null,
   "metadata": {},
   "outputs": [],
   "source": []
  },
  {
   "cell_type": "code",
   "execution_count": null,
   "metadata": {},
   "outputs": [],
   "source": []
  },
  {
   "cell_type": "code",
   "execution_count": null,
   "metadata": {},
   "outputs": [],
   "source": []
  },
  {
   "cell_type": "code",
   "execution_count": null,
   "metadata": {},
   "outputs": [],
   "source": []
  },
  {
   "cell_type": "code",
   "execution_count": null,
   "metadata": {},
   "outputs": [],
   "source": []
  },
  {
   "cell_type": "code",
   "execution_count": null,
   "metadata": {},
   "outputs": [],
   "source": []
  },
  {
   "cell_type": "code",
   "execution_count": null,
   "metadata": {},
   "outputs": [],
   "source": []
  }
 ],
 "metadata": {
  "kernelspec": {
   "display_name": "Python 3",
   "language": "python",
   "name": "python3"
  },
  "language_info": {
   "codemirror_mode": {
    "name": "ipython",
    "version": 3
   },
   "file_extension": ".py",
   "mimetype": "text/x-python",
   "name": "python",
   "nbconvert_exporter": "python",
   "pygments_lexer": "ipython3",
   "version": "3.7.0"
  }
 },
 "nbformat": 4,
 "nbformat_minor": 2
}
