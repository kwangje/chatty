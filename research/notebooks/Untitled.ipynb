{
 "cells": [
  {
   "cell_type": "code",
   "execution_count": 1,
   "metadata": {},
   "outputs": [],
   "source": [
    "import pandas as pd\n",
    "\n",
    "\n",
    "from chatty import tokens\n",
    "from research.data import daily_dialogue\n",
    "from research.utils import cv_stratified_shuffle\n",
    "\n",
    "from sklearn.model_selection import train_test_split\n",
    "\n",
    "data = daily_dialogue.data()\n",
    "\n",
    "one = tokens.nlp(data[1000]['utterance'])"
   ]
  },
  {
   "cell_type": "code",
   "execution_count": 2,
   "metadata": {},
   "outputs": [],
   "source": [
    "one = one.text"
   ]
  },
  {
   "cell_type": "code",
   "execution_count": 13,
   "metadata": {},
   "outputs": [
    {
     "data": {
      "text/plain": [
       "['<LEMMA>_ _<POS>_SPACE_<LEMMA>_what_<POS>_NOUN',\n",
       " '<LEMMA>_what_<POS>_NOUN_<LEMMA>_be_<POS>_VERB',\n",
       " '<LEMMA>_be_<POS>_VERB_<LEMMA>_the_<POS>_DET',\n",
       " '<LEMMA>_the_<POS>_DET_<LEMMA>_disadvantage_<POS>_NOUN',\n",
       " '<LEMMA>_disadvantage_<POS>_NOUN_<LEMMA>_of_<POS>_ADP',\n",
       " '<LEMMA>_of_<POS>_ADP_<LEMMA>_on_<POS>_ADP',\n",
       " '<LEMMA>_on_<POS>_ADP_<LEMMA>_-_<POS>_PUNCT',\n",
       " '<LEMMA>_-_<POS>_PUNCT_<LEMMA>_line_<POS>_NOUN',\n",
       " '<LEMMA>_line_<POS>_NOUN_<LEMMA>_shopping_<POS>_NOUN',\n",
       " '<LEMMA>_shopping_<POS>_NOUN_<LEMMA>_?_<POS>_PUNCT',\n",
       " '<WORD>_ ',\n",
       " '<WORD>_what',\n",
       " '<WORD>_are',\n",
       " '<WORD>_the',\n",
       " '<WORD>_disadvantages',\n",
       " '<WORD>_of',\n",
       " '<WORD>_on',\n",
       " '<WORD>_-',\n",
       " '<WORD>_line',\n",
       " '<WORD>_shopping',\n",
       " '<WORD>_?']"
      ]
     },
     "execution_count": 13,
     "metadata": {},
     "output_type": "execute_result"
    }
   ],
   "source": [
    "tokenizer = tokens.build([\n",
    "    tokens.ngramize(\n",
    "        tokens.chain([\n",
    "            tokens.lemma(),\n",
    "            tokens.pos()\n",
    "        ]), [2]\n",
    "    ),\n",
    "    tokens.word()\n",
    "])\n",
    "\n",
    "tokenizer(one)"
   ]
  },
  {
   "cell_type": "code",
   "execution_count": null,
   "metadata": {},
   "outputs": [],
   "source": []
  },
  {
   "cell_type": "code",
   "execution_count": null,
   "metadata": {},
   "outputs": [],
   "source": []
  },
  {
   "cell_type": "code",
   "execution_count": null,
   "metadata": {},
   "outputs": [],
   "source": []
  },
  {
   "cell_type": "code",
   "execution_count": null,
   "metadata": {},
   "outputs": [],
   "source": []
  },
  {
   "cell_type": "code",
   "execution_count": null,
   "metadata": {},
   "outputs": [],
   "source": []
  },
  {
   "cell_type": "code",
   "execution_count": null,
   "metadata": {},
   "outputs": [],
   "source": []
  },
  {
   "cell_type": "code",
   "execution_count": null,
   "metadata": {},
   "outputs": [],
   "source": []
  },
  {
   "cell_type": "code",
   "execution_count": null,
   "metadata": {},
   "outputs": [],
   "source": []
  },
  {
   "cell_type": "code",
   "execution_count": null,
   "metadata": {},
   "outputs": [],
   "source": []
  },
  {
   "cell_type": "code",
   "execution_count": null,
   "metadata": {},
   "outputs": [],
   "source": []
  },
  {
   "cell_type": "code",
   "execution_count": null,
   "metadata": {},
   "outputs": [],
   "source": []
  },
  {
   "cell_type": "code",
   "execution_count": null,
   "metadata": {},
   "outputs": [],
   "source": []
  },
  {
   "cell_type": "code",
   "execution_count": null,
   "metadata": {},
   "outputs": [],
   "source": []
  },
  {
   "cell_type": "code",
   "execution_count": null,
   "metadata": {},
   "outputs": [],
   "source": []
  },
  {
   "cell_type": "code",
   "execution_count": null,
   "metadata": {},
   "outputs": [],
   "source": []
  },
  {
   "cell_type": "code",
   "execution_count": null,
   "metadata": {},
   "outputs": [],
   "source": []
  },
  {
   "cell_type": "code",
   "execution_count": null,
   "metadata": {},
   "outputs": [],
   "source": []
  },
  {
   "cell_type": "code",
   "execution_count": null,
   "metadata": {},
   "outputs": [],
   "source": []
  },
  {
   "cell_type": "code",
   "execution_count": null,
   "metadata": {},
   "outputs": [],
   "source": []
  },
  {
   "cell_type": "code",
   "execution_count": null,
   "metadata": {},
   "outputs": [],
   "source": []
  },
  {
   "cell_type": "code",
   "execution_count": null,
   "metadata": {},
   "outputs": [],
   "source": []
  },
  {
   "cell_type": "code",
   "execution_count": null,
   "metadata": {},
   "outputs": [],
   "source": []
  },
  {
   "cell_type": "code",
   "execution_count": null,
   "metadata": {},
   "outputs": [],
   "source": []
  },
  {
   "cell_type": "code",
   "execution_count": null,
   "metadata": {},
   "outputs": [],
   "source": []
  }
 ],
 "metadata": {
  "kernelspec": {
   "display_name": "Python 3",
   "language": "python",
   "name": "python3"
  },
  "language_info": {
   "codemirror_mode": {
    "name": "ipython",
    "version": 3
   },
   "file_extension": ".py",
   "mimetype": "text/x-python",
   "name": "python",
   "nbconvert_exporter": "python",
   "pygments_lexer": "ipython3",
   "version": "3.7.0"
  }
 },
 "nbformat": 4,
 "nbformat_minor": 2
}
