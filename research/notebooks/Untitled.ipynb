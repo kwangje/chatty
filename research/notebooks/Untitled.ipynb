{
 "cells": [
  {
   "cell_type": "code",
   "execution_count": 3,
   "metadata": {},
   "outputs": [],
   "source": [
    "import pandas as pd\n",
    "\n",
    "\n",
    "from chatty import tokens\n",
    "from research.data import daily_dialogue\n",
    "from research.utils import cv_stratified_shuffle\n",
    "\n",
    "from sklearn.model_selection import train_test_split\n",
    "\n",
    "data = daily_dialogue.data()\n",
    "\n",
    "one = tokens.nlp(data[1000]['utterance'])"
   ]
  },
  {
   "cell_type": "code",
   "execution_count": 4,
   "metadata": {},
   "outputs": [
    {
     "data": {
      "text/plain": [
       "['<POS>_SPACE_<LEMMA>_ _<POS>_NOUN_<LEMMA>_what',\n",
       " '<POS>_NOUN_<LEMMA>_what_<POS>_VERB_<LEMMA>_be',\n",
       " '<POS>_VERB_<LEMMA>_be_<POS>_DET_<LEMMA>_the',\n",
       " '<POS>_DET_<LEMMA>_the_<POS>_NOUN_<LEMMA>_disadvantage',\n",
       " '<POS>_NOUN_<LEMMA>_disadvantage_<POS>_ADP_<LEMMA>_of',\n",
       " '<POS>_ADP_<LEMMA>_of_<POS>_ADP_<LEMMA>_on',\n",
       " '<POS>_ADP_<LEMMA>_on_<POS>_PUNCT_<LEMMA>_-',\n",
       " '<POS>_PUNCT_<LEMMA>_-_<POS>_NOUN_<LEMMA>_line',\n",
       " '<POS>_NOUN_<LEMMA>_line_<POS>_NOUN_<LEMMA>_shopping',\n",
       " '<POS>_NOUN_<LEMMA>_shopping_<POS>_PUNCT_<LEMMA>_?']"
      ]
     },
     "execution_count": 4,
     "metadata": {},
     "output_type": "execute_result"
    }
   ],
   "source": [
    "tokens.ngramize(tokens.chain(one, tokenizers=[tokens.pos, tokens.lemma]), [2])"
   ]
  },
  {
   "cell_type": "code",
   "execution_count": 13,
   "metadata": {},
   "outputs": [
    {
     "data": {
      "text/plain": [
       "['LEMMA_ _WORD_ _POS_SPACE',\n",
       " 'LEMMA_what_WORD_what_POS_NOUN',\n",
       " 'LEMMA_be_WORD_are_POS_VERB',\n",
       " 'LEMMA_the_WORD_the_POS_DET',\n",
       " 'LEMMA_disadvantage_WORD_disadvantages_POS_NOUN',\n",
       " 'LEMMA_of_WORD_of_POS_ADP',\n",
       " 'LEMMA_on_WORD_on_POS_ADP',\n",
       " 'LEMMA_-_WORD_-_POS_PUNCT',\n",
       " 'LEMMA_line_WORD_line_POS_NOUN',\n",
       " 'LEMMA_shopping_WORD_shopping_POS_NOUN',\n",
       " 'LEMMA_?_WORD_?_POS_PUNCT']"
      ]
     },
     "execution_count": 13,
     "metadata": {},
     "output_type": "execute_result"
    }
   ],
   "source": [
    "['_'.join(i) for i in list(zip(tokens.lemma(one), tokens.word(one), tokens.pos(one)))]"
   ]
  },
  {
   "cell_type": "code",
   "execution_count": 5,
   "metadata": {},
   "outputs": [
    {
     "data": {
      "text/plain": [
       "' What are the disadvantages of on-line shopping ? '"
      ]
     },
     "execution_count": 5,
     "metadata": {},
     "output_type": "execute_result"
    }
   ],
   "source": [
    "one"
   ]
  },
  {
   "cell_type": "code",
   "execution_count": null,
   "metadata": {},
   "outputs": [],
   "source": []
  },
  {
   "cell_type": "code",
   "execution_count": null,
   "metadata": {},
   "outputs": [],
   "source": []
  },
  {
   "cell_type": "code",
   "execution_count": null,
   "metadata": {},
   "outputs": [],
   "source": []
  },
  {
   "cell_type": "code",
   "execution_count": null,
   "metadata": {},
   "outputs": [],
   "source": []
  },
  {
   "cell_type": "code",
   "execution_count": null,
   "metadata": {},
   "outputs": [],
   "source": []
  },
  {
   "cell_type": "code",
   "execution_count": null,
   "metadata": {},
   "outputs": [],
   "source": []
  },
  {
   "cell_type": "code",
   "execution_count": null,
   "metadata": {},
   "outputs": [],
   "source": []
  },
  {
   "cell_type": "code",
   "execution_count": null,
   "metadata": {},
   "outputs": [],
   "source": []
  },
  {
   "cell_type": "code",
   "execution_count": null,
   "metadata": {},
   "outputs": [],
   "source": []
  },
  {
   "cell_type": "code",
   "execution_count": null,
   "metadata": {},
   "outputs": [],
   "source": []
  },
  {
   "cell_type": "code",
   "execution_count": null,
   "metadata": {},
   "outputs": [],
   "source": []
  },
  {
   "cell_type": "code",
   "execution_count": null,
   "metadata": {},
   "outputs": [],
   "source": []
  },
  {
   "cell_type": "code",
   "execution_count": null,
   "metadata": {},
   "outputs": [],
   "source": []
  },
  {
   "cell_type": "code",
   "execution_count": null,
   "metadata": {},
   "outputs": [],
   "source": []
  },
  {
   "cell_type": "code",
   "execution_count": null,
   "metadata": {},
   "outputs": [],
   "source": []
  }
 ],
 "metadata": {
  "kernelspec": {
   "display_name": "Python 3",
   "language": "python",
   "name": "python3"
  },
  "language_info": {
   "codemirror_mode": {
    "name": "ipython",
    "version": 3
   },
   "file_extension": ".py",
   "mimetype": "text/x-python",
   "name": "python",
   "nbconvert_exporter": "python",
   "pygments_lexer": "ipython3",
   "version": "3.7.0"
  }
 },
 "nbformat": 4,
 "nbformat_minor": 2
}
